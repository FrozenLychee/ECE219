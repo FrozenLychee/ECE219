{
 "cells": [
  {
   "cell_type": "code",
   "execution_count": 1,
   "metadata": {},
   "outputs": [],
   "source": [
    "import numpy as np\n",
    "import pandas as pd\n",
    "import matplotlib.pyplot as plt\n",
    "import json"
   ]
  },
  {
   "cell_type": "code",
   "execution_count": 44,
   "metadata": {},
   "outputs": [],
   "source": [
    "f_gohawks = \"./tweets_#gohawks.txt\"\n",
    "f_gopatriots = \"./tweets_#gopatriots.txt\"\n",
    "f_superbowl = \"./tweets_#superbowl.txt\"\n",
    "f_nfl = \"./tweets_#nfl.txt\"\n",
    "f_patriots = \"./tweets_#patriots.txt\"\n",
    "f_sb49 = \"./tweets_#sb49.txt\"\n",
    "\n",
    "file_lst = [f_gohawks, f_gopatriots, f_superbowl, f_nfl, f_patriots, f_sb49]"
   ]
  },
  {
   "cell_type": "code",
   "execution_count": 45,
   "metadata": {},
   "outputs": [],
   "source": [
    "def read_f(name):\n",
    "    f_json = []\n",
    "    with open(name, 'r') as f:\n",
    "        for l in f:\n",
    "            f_json.append(json.loads(l))\n",
    "    return f_json"
   ]
  },
  {
   "cell_type": "code",
   "execution_count": 46,
   "metadata": {},
   "outputs": [],
   "source": [
    "gohawks = read_f(f_gohawks)\n",
    "gopatriots = read_f(f_gopatriots)"
   ]
  },
  {
   "cell_type": "code",
   "execution_count": 47,
   "metadata": {},
   "outputs": [],
   "source": [
    "superbowl = read_f(f_superbowl)"
   ]
  },
  {
   "cell_type": "code",
   "execution_count": 48,
   "metadata": {},
   "outputs": [],
   "source": [
    "nfl = read_f(f_nfl)\n",
    "patriots = read_f(f_patriots)\n",
    "sb49 = read_f(f_sb49)"
   ]
  },
  {
   "cell_type": "code",
   "execution_count": 49,
   "metadata": {},
   "outputs": [],
   "source": [
    "def report_tweet_statistics(tweets, name):\n",
    "    followers = []\n",
    "    retweets = []\n",
    "    citation_dates = []\n",
    "    total_tweets = len(tweets)\n",
    "    for tw in tweets:\n",
    "      followers.append(tw['author']['followers'])\n",
    "      retweets.append(tw['metrics']['citations']['total'])\n",
    "      citation_dates.append(tw['citation_date'])\n",
    "    max_date = max(citation_dates)\n",
    "    min_date = min(citation_dates)\n",
    "    tws_per_hour = total_tweets * 3600 / (max_date - min_date)\n",
    "    avg_followers = sum(followers) / total_tweets\n",
    "    avg_retweets = sum(retweets) / total_tweets\n",
    "    print(name)\n",
    "    print('average number of tweets per hour: ', tws_per_hour)\n",
    "    print('average number of followers: ', avg_followers)\n",
    "    print('average number of retweets: ', avg_retweets)"
   ]
  },
  {
   "cell_type": "code",
   "execution_count": 51,
   "metadata": {},
   "outputs": [
    {
     "name": "stdout",
     "output_type": "stream",
     "text": [
      "#gohawks\n",
      "average number of tweets per hour:  292.48785062173687\n",
      "average number of followers:  2217.9237355281984\n",
      "average number of retweets:  2.0132093991319877\n",
      "#gopatriots\n",
      "average number of tweets per hour:  40.954698006061946\n",
      "average number of followers:  1427.2526051635405\n",
      "average number of retweets:  1.4081919101697078\n",
      "#superbowl\n",
      "average number of tweets per hour:  2072.11840170408\n",
      "average number of followers:  8814.96799424623\n",
      "average number of retweets:  2.3911895819207736\n",
      "#nfl\n",
      "average number of tweets per hour:  397.0213901819841\n",
      "average number of followers:  4662.37544523693\n",
      "average number of retweets:  1.5344602655543254\n",
      "#patriots\n",
      "average number of tweets per hour:  750.8942646068899\n",
      "average number of followers:  3280.4635616550277\n",
      "average number of retweets:  1.7852871288476946\n",
      "#sb49\n",
      "average number of tweets per hour:  1276.8570598680474\n",
      "average number of followers:  10374.160292019487\n",
      "average number of retweets:  2.52713444111402\n"
     ]
    }
   ],
   "source": [
    "report_tweet_statistics(gohawks, \"#gohawks\")\n",
    "report_tweet_statistics(gopatriots, \"#gopatriots\")\n",
    "report_tweet_statistics(superbowl, \"#superbowl\")\n"
   ]
  },
  {
   "cell_type": "code",
   "execution_count": 52,
   "metadata": {},
   "outputs": [
    {
     "name": "stdout",
     "output_type": "stream",
     "text": [
      "#nfl\n",
      "average number of tweets per hour:  397.0213901819841\n",
      "average number of followers:  4662.37544523693\n",
      "average number of retweets:  1.5344602655543254\n",
      "#patriots\n",
      "average number of tweets per hour:  750.8942646068899\n",
      "average number of followers:  3280.4635616550277\n",
      "average number of retweets:  1.7852871288476946\n",
      "#sb49\n",
      "average number of tweets per hour:  1276.8570598680474\n",
      "average number of followers:  10374.160292019487\n",
      "average number of retweets:  2.52713444111402\n"
     ]
    }
   ],
   "source": [
    "report_tweet_statistics(nfl, \"#nfl\")\n",
    "report_tweet_statistics(patriots, \"#patriots\")\n",
    "report_tweet_statistics(sb49, \"#sb49\")"
   ]
  },
  {
   "cell_type": "code",
   "execution_count": 53,
   "metadata": {},
   "outputs": [
    {
     "data": {
      "image/png": "[encoded data removed]",
      "text/plain": [
       "<Figure size 432x288 with 1 Axes>"
      ]
     },
     "metadata": {
      "needs_background": "light"
     },
     "output_type": "display_data"
    }
   ],
   "source": [
    "import math\n",
    "citation_dates = [twe['citation_date'] for twe in superbowl]\n",
    "max_date = max(citation_dates)\n",
    "min_date = min(citation_dates)\n",
    "num_c = math.ceil((max_date - min_date)/3600)\n",
    "n_tweet_hr = [0] * num_c\n",
    "\n",
    "for t in citation_dates:\n",
    "    key = math.floor((t- min_date)/3600)\n",
    "    n_tweet_hr[key] += 1\n",
    "\n",
    "plt.bar(range(num_c), n_tweet_hr, 1)\n",
    "# plt.figure(figsize=(12,8))\n",
    "plt.xlabel('Hours')\n",
    "plt.ylabel('Number of Tweets')\n",
    "plt.title('Number of Tweets in Hours for Superbowl')\n",
    "plt.show()"
   ]
  },
  {
   "cell_type": "code",
   "execution_count": 57,
   "metadata": {},
   "outputs": [
    {
     "data": {
      "image/png": "[encoded data removed]",
      "text/plain": [
       "<Figure size 432x288 with 1 Axes>"
      ]
     },
     "metadata": {
      "needs_background": "light"
     },
     "output_type": "display_data"
    }
   ],
   "source": [
    "citation_dates = [twe['citation_date'] for twe in nfl]\n",
    "max_date = max(citation_dates)\n",
    "min_date = min(citation_dates)\n",
    "num_c = math.ceil((max_date - min_date)/3600)\n",
    "n_tweet_hr = [0] * num_c\n",
    "\n",
    "for t in citation_dates:\n",
    "    key = math.floor((t- min_date)/3600)\n",
    "    n_tweet_hr[key] += 1\n",
    "\n",
    "plt.bar(range(num_c), n_tweet_hr, 1)\n",
    "plt.xlabel('Hours')\n",
    "plt.ylabel('Number of Tweets')\n",
    "plt.title('Number of Tweets in Hours for NFL')\n",
    "plt.show()"
   ]
  },
  {
   "cell_type": "code",
   "execution_count": null,
   "metadata": {},
   "outputs": [],
   "source": []
  }
 ],
 "metadata": {
  "kernelspec": {
   "display_name": "Python 3",
   "language": "python",
   "name": "python3"
  },
  "language_info": {
   "codemirror_mode": {
    "name": "ipython",
    "version": 3
   },
   "file_extension": ".py",
   "mimetype": "text/x-python",
   "name": "python",
   "nbconvert_exporter": "python",
   "pygments_lexer": "ipython3",
   "version": "3.9.7"
  },
  "orig_nbformat": 4,
  "vscode": {
   "interpreter": {
    "hash": "aee8b7b246df8f9039afb4144a1f6fd8d2ca17a180786b69acc140d282b71a49"
   }
  }
 },
 "nbformat": 4,
 "nbformat_minor": 2
}
